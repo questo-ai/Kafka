{
 "cells": [
  {
   "cell_type": "code",
   "execution_count": 1,
   "metadata": {},
   "outputs": [
    {
     "name": "stderr",
     "output_type": "stream",
     "text": [
      "WARNING:root:TensorFlow version 1.15.0 detected. Last version known to be fully compatible is 1.14.0 .\n"
     ]
    }
   ],
   "source": [
    "from __future__ import absolute_import\n",
    "from __future__ import division\n",
    "from __future__ import print_function\n",
    "import tensorflow as tf\n",
    "import sys\n",
    "sys.argv = sys.argv[:1]\n",
    "from model import ParserModel, main, Config\n",
    "\n",
    "import time\n",
    "\n",
    "from itertools import islice\n",
    "from sys import stdout\n",
    "from tempfile import NamedTemporaryFile\n",
    "import tensorflow as tf\n",
    "from utils.model import Model\n",
    "from data import load_and_preprocess_data\n",
    "from data import score_arcs\n",
    "from initialization import xavier_weight_init\n",
    "from parser import minibatch_parse\n",
    "from utils.generic_utils import Progbar\n",
    "\n",
    "from tensorflow.python.tools.freeze_graph import freeze_graph\n",
    "import tfcoreml"
   ]
  },
  {
   "cell_type": "code",
   "execution_count": null,
   "metadata": {},
   "outputs": [],
   "source": [
    "# class Config(object):\n",
    "#     \"\"\"Holds model hyperparams and data information.\n",
    "\n",
    "#     The config class is used to store various hyperparameters and dataset\n",
    "#     information parameters. Model objects are passed a Config() object at\n",
    "#     instantiation.\n",
    "#     \"\"\"\n",
    "#     n_word_ids = None # inferred\n",
    "#     n_tag_ids = None # inferred\n",
    "#     n_deprel_ids = None # inferred\n",
    "#     n_word_features = None # inferred\n",
    "#     n_tag_features = None # inferred\n",
    "#     n_deprel_features = None # inferred\n",
    "#     n_classes = None # inferred\n",
    "#     dropout = 0.5\n",
    "#     embed_size = None # inferred\n",
    "#     hidden_size = 4\n",
    "#     batch_size = 2048\n",
    "#     n_epochs = 1\n",
    "#     lr = 0.001\n",
    "#     l2_beta = 10e-8\n",
    "#     l2_loss = 0\n"
   ]
  },
  {
   "cell_type": "code",
   "execution_count": 2,
   "metadata": {},
   "outputs": [
    {
     "name": "stdout",
     "output_type": "stream",
     "text": [
      "================================================================================\n",
      "INITIALIZING\n",
      "================================================================================\n",
      "Loading word embeddings...['!', '#', '$', '%', '&', \"'\", \"''\", \"'d\", \"'ll\", \"'m\", \"'re\", \"'s\", \"'ve\", ',', '-', '--', '-LCB-', '-LRB-', '-RCB-', '-RRB-', '.', '...', '0.2', '1', '1,000', '1.1', '1.2', '1.25', '1.3', '1.4', '1.5', '1.6', '1.7', '1.8', '1.9', '1/2', '1/4', '1/8', '10', '10,000', '10-year', '100', '100,000', '101', '102', '11', '11/16', '110', '12', '12.5', '120', '125', '13', '14', '140', '15', '15,000', '150', '16', '17', '18', '180', '19', '1970s', '1972', '1973', '1974', '1979', '1980', '1980s', '1981', '1982', '1983', '1984', '1985', '1986', '1987', '1988', '1989', '1990', '1990s', '1991', '1992', '1993', '1994', '1995', '1999', '2', '2,000', '2.2', '2.3', '2.4', '2.5', '2.6', '2.7', '2.8', '20', '20,000', '200', '200,000', '2009', '21', '22', '225', '23', '24', '25', '250', '250,000', '26', '27', '28', '29', '3', '3,000', '3.1', '3.3', '3.5', '3.6', '3.7', '3.8', '3.9', '3/4', '3/8', '30', '30-year', '300', '31', '32', '33', '34', '35', '350', '36', '37', '38', '39', '4', '4.5', '4.6', '4.7', '40', '400', '41', '42', '43', '44', '45', '46', '47', '48', '49', '5', '5,000', '5.5', '5/8', '50', '50,000', '500', '500,000', '51', '52', '53', '54', '55', '56', '57', '58', '59', '6', '6.5', '6.9', '60', '600', '61', '62', '63', '64', '65', '66', '67', '68', '69', '7', '7/16', '7/8', '70', '700', '72', '75', '750', '8', '8.5', '8.50', '80', '800', '85', '89', '9', '9/16', '90', '900', '95', '97', '98', '99', ':', ';', '?', 'A', 'A$', 'A.', 'ABC', 'AG', 'AIDS', 'AMR', 'ANC', 'AT&T', 'About', 'According', 'Acquisition', 'Act', 'Administration', 'Aetna', 'Africa', 'African', 'After', 'Agency', 'Air', 'Airlines', 'Airways', 'Akzo', 'Alan', 'Alexander', 'All', 'Allen', 'Allianz', 'Also', 'Although', 'America', 'American', 'Americans', 'Amex', 'Among', 'An', 'Analysts', 'And', 'Angeles', 'Another', 'Apple', 'Appropriations', 'April', 'Area', 'Ariz.', 'Arizona', 'Army', 'Art', 'Arthur', 'As', 'Asia', 'Asian', 'Associates', 'Association', 'At', 'Atlanta', 'Atlantic', 'Aug.', 'August', 'Australia', 'Australian', 'Authority', 'Avenue', 'Average', 'B', 'B.', 'B.A.T', 'Baker', 'Baltimore', 'Banco', 'Bank', 'BankAmerica', 'Bankers', 'Banking', 'Bankruptcy', 'Barney', 'Bartlett', 'Bay', 'Beach', 'Bear', 'Because', 'Before', 'Beijing', 'Bell', 'BellSouth', 'Berkeley', 'Berlin', 'Besides', 'Bethlehem', 'Big', 'Bill', 'Black', 'Bloomingdale', 'Board', 'Bob', 'Boeing', 'Bond', 'Bonds', 'Boren', 'Boston', 'Both', 'Brady', 'Brands', 'Brazil', 'Breeden', 'Bridge', 'Britain', 'British', 'Broadcasting', 'Brooks', 'Brothers', 'Brown', 'Budget', 'Bureau', 'Burnham', 'Bush', 'Business', 'But', 'By', 'C$', 'C.', 'CBS', 'CD', 'CDs', 'CIA', 'CORP.', 'Calif', 'Calif.', 'California', 'Campeau', 'Canada', 'Canadian', 'Capital', 'Capitol', 'Care', 'Carl', 'Carolina', 'Cathay', 'Center', 'Central', 'Chairman', 'Chancellor', 'Channel', 'Chapter', 'Charles', 'Chase', 'Chemical', 'Chicago', 'China', 'Chinese', 'Christmas', 'Christopher', 'Chrysler', 'Cincinnati', 'Citicorp', 'City', 'Class', 'Cleveland', 'Co', 'Co.', 'Coast', 'Coca-Cola', 'Cohen', 'Coke', 'Colgate', 'Colorado', 'Columbia', 'Commerce', 'Commission', 'Committee', 'Communications', 'Communist', 'Community', 'Companies', 'Company', 'Compaq', 'Composite', 'Computer', 'Congress', 'Conn.', 'Connecticut', 'Conner', 'Continental', 'Contras', 'Control', 'Coors', 'Corp', 'Corp.', 'Corporate', 'Corry', 'Cos.', 'Costa', 'Council', 'County', 'Court', 'Cray', 'Credit', 'Cross', 'D.', 'D.C.', 'Daiwa', 'Dallas', 'Daniel', 'Data', 'David', 'Davis', 'Dealers', 'Dean', 'Dec.', 'December', 'Defense', 'Delmed', 'Delta', 'Democrat', 'Democratic', 'Democrats', 'Dennis', 'Department', 'Despite', 'Detroit', 'Development', 'Digital', 'Dinkins', 'Director', 'District', 'Do', 'Donald', 'Donaldson', 'Douglas', 'Dow', 'Dr.', 'Drexel', 'Drug', 'Du', 'During', 'Dutch', 'E.', 'EC', 'EST', 'Each', 'Eagle', 'Earlier', 'East', 'Eastern', 'Economic', 'Edward', 'El', 'Electric', 'Energy', 'Engelken', 'England', 'English', 'Enterprises', 'Entertainment', 'Environmental', 'Equipment', 'Estate', 'Estimated', 'Europe', 'European', 'Even', 'Exchange', 'Executive', 'Express', 'Exxon', 'F.', 'FBI', 'FDA', 'FEDERAL', 'Fannie', 'Far', 'Farmers', 'Fe', 'February', 'Fed', 'Federal', 'Fees', 'Fiat', 'Fidelity', 'Finance', 'Financial', 'First', 'Fla.', 'Florida', 'Food', 'Foods', 'For', 'Force', 'Ford', 'Foreign', 'Four', 'Fox', 'France', 'Francisco', 'Frank', 'Frankfurt', 'Franklin', 'Freddie', 'French', 'Friday', 'From', 'Fujitsu', 'Fund', 'Futures', 'G.', 'GE', 'GM', 'GNP', 'GOP', 'Galileo', 'Gandhi', 'Gary', 'Gas', 'Gen.', 'General', 'George', 'Georgia', 'Georgia-Pacific', 'German', 'Germans', 'Germany', 'Giuliani', 'Gold', 'Golden', 'Goldman', 'Gonzalez', 'Gorbachev', 'Gov.', 'Government', 'Grand', 'Great', 'Green', 'Greenspan', 'Group', 'Guber', 'Gulf', 'H.', 'HUD', 'Hall', 'Hampshire', 'Hanover', 'Harris', 'Harvard', 'Hastings', 'He', 'Health', 'HealthVest', 'Henry', 'Her', 'Here', 'Hewlett-Packard', 'Hill', 'Hills', 'His', 'Holding', 'Holdings', 'Hollywood', 'Home', 'Honecker', 'Hong', 'Hooker', 'House', 'Housing', 'Houston', 'How', 'Howard', 'However', 'Hugo', 'Hungary', 'Hunt', 'Hurricane', 'Hutton', 'I', 'IBM', 'II', 'III', 'INC.', 'IRS', 'Icahn', 'If', 'Ill.', 'Illinois', 'Imperial', 'In', 'Inc', 'Inc.', 'Indeed', 'Index', 'India', 'Indian', 'Industrial', 'Industries', 'Industry', 'Instead', 'Institute', 'Insurance', 'Integrated', 'Intel', 'Interest', 'International', 'Interstate', 'Investment', 'Investors', 'Is', 'Israel', 'It', 'Italian', 'Italy', 'Its', 'J.', 'Jack', 'Jaguar', 'James', 'Jan.', 'January', 'Japan', 'Japanese', 'Jeffrey', 'Jenrette', 'Jersey', 'Jim', 'John', 'Johnson', 'Jones', 'Jose', 'Joseph', 'Journal', 'Jr.', 'Judge', 'July', 'June', 'Just', 'Justice', 'K', 'KKR', 'Kellogg', 'Kennedy', 'Kidder', 'King', 'Kodak', 'Kong', 'Korea', 'Korean', 'Krenz', 'L.', 'LBO', 'LIN', 'LTV', 'La', 'Labor', 'Lambert', 'Lang', 'Las', 'Last', 'Latin', 'Law', 'Lawrence', 'Lawson', 'Lebanon', 'Lee', 'Lehman', 'Lewis', 'Life', 'Like', 'Lilly', 'Lincoln', 'Line', 'Little', 'Lloyd', 'Loan', 'London', 'Los', 'Louis', 'Ltd', 'Ltd.', 'Lufkin', 'Lynch', 'M.', 'MCA', 'MCI', 'MGM', 'Mac', 'Machines', 'Mae', 'Maine', 'Major', 'Malcolm', 'Management', 'Manhattan', 'Manufacturers', 'Manville', 'Many', 'March', 'Marcos', 'Marina', 'Mark', 'Market', 'Markets', 'Marshall', 'Martin', 'Maryland', 'Mass.', 'Massachusetts', 'Maxwell', 'May', 'Maybe', 'Maynard', 'Mayor', 'McCaw', 'McDonald', 'Meanwhile', 'Medical', 'Merc', 'Mercantile', 'Merksamer', 'Merrill', 'Mesa', 'Messrs.', 'Mexico', 'Miami', 'Mich.', 'Michael', 'Michigan', 'Mikhail', 'Miller', 'Milton', 'Minister', 'Ministry', 'Minneapolis', 'Mitchell', 'Mitsubishi', 'Mixte', 'Mobil', 'Monday', 'Money', 'Moody', 'More', 'Moreover', 'Morgan', 'Morris', 'Mortgage', 'Moscow', 'Most', 'Motor', 'Motors', 'Mr.', 'Mrs.', 'Ms.', 'Much', 'My', 'N.J.', 'N.Y.', 'NASA', 'NBC', 'NEC', 'NYSE', 'Nasdaq', 'National', 'Navigation', 'Navy', 'Neither', 'Nekoosa', 'Net', 'Nevertheless', 'New', 'Newport', 'News', 'Next', 'Nicaragua', 'Nicholas', 'Nikkei', 'Nissan', 'No', 'No.', 'Nomura', 'Noriega', 'North', 'Northeast', 'Northern', 'Not', 'Nov.', 'November', 'Now', 'OPEC', 'OTC', 'Oakland', 'Oct.', 'October', 'Of', 'Office', 'Officials', 'Ogilvy', 'Ohio', 'Oil', 'Old', 'On', 'Once', 'One', 'Only', 'Operating', 'Options', 'Or', 'Orange', 'Organization', 'Ortega', 'Other', 'Others', 'Our', 'Over', 'P&G', 'P.', 'PLC', 'Pacific', 'PaineWebber', 'Panama', 'Panamanian', 'Paper', 'Paramount', 'Paribas', 'Paris', 'Park', 'Parliament', 'Partners', 'Party', 'Paul', 'Peabody', 'Pennsylvania', 'Pentagon', 'People', 'Perhaps', 'Peter', 'Peters', 'Petroleum', 'Phelan', 'Philadelphia', 'Philip', 'Phillips', 'Phoenix', 'Pilson', 'Pinkerton', 'Pittsburgh', 'Poland', 'Polaroid', 'Polish', 'Pont', 'Poor', 'Power', 'President', 'Press', 'Price', 'Prices', 'Prime', 'Proceeds', 'Products', 'Profit', 'Prudential-Bache', 'Public', 'Qintex', 'Quebecor', 'Quotron', 'R.', 'RICO', 'RJR', 'Rally', 'Ralph', 'Reagan', 'Real', 'Red', 'Remic', 'Rep.', 'Report', 'Republican', 'Republicans', 'Research', 'Reserve', 'Resources', 'Results', 'Revenue', 'Rey', 'Reynolds', 'Rica', 'Richard', 'Rights', 'River', 'Robert', 'Roberts', 'Rockefeller', 'Roger', 'Roman', 'Ronald', 'Ross', 'Rothschild', 'Roy', 'Royal', 'S&L', 'S&P', 'S.', 'S.A.', 'SCI', 'SEC', 'Saab', 'Saatchi', 'Sachs', 'Sales', 'Salomon', 'Sam', 'Samuel', 'San', 'Santa', 'Saturday', 'Savings', 'Says', 'School', 'Sciences', 'Scott', 'Sea', 'Sears', 'Second', 'Secretary', 'Section', 'Securities', 'Security', 'Seidman', 'Sen.', 'Senate', 'Separately', 'Sept.', 'September', 'Series', 'Service', 'Services', 'Several', 'She', 'Shearson', 'Showtime', 'Since', 'Singapore', 'Sir', 'Smith', 'So', 'Social', 'Some', 'Sons', 'Sony', 'Sotheby', 'Source', 'South', 'Southern', 'Soviet', 'Soviets', 'Spain', 'Spielvogel', 'Sports', 'St.', 'Standard', 'Stanley', 'Star', 'State', 'States', 'StatesWest', 'Stearns', 'Steel', 'Stein', 'Steinhardt', 'Stephen', 'Sterling', 'Steve', 'Steven', 'Stevens', 'Still', 'Stock', 'Stocks', 'Stone', 'Stores', 'Street', 'Such', 'Sun', 'Sunday', 'Supreme', 'Swedish', 'Swiss', 'Switzerland', 'System', 'Systems', 'T.', 'THE', 'TV', 'Taiwan', 'Tax', 'Technologies', 'Technology', 'Telegraph', 'Telephone', 'Telerate', 'Tennessee', 'Terms', 'Texaco', 'Texas', 'That', 'Thatcher', 'The', 'Their', 'Then', 'There', 'These', 'They', 'Third', 'Third-quarter', 'This', 'Thomas', 'Thompson', 'Thomson', 'Those', 'Though', 'Three', 'Thursday', 'Thus', 'Tiger', 'Time', 'Times', 'To', 'Today', 'Tokyo', 'Tom', 'Toronto', 'Total', 'Toyota', 'Trade', 'Traders', 'Trading', 'Transportation', 'Treasury', 'Trelleborg', 'Trump', 'Trust', 'Tuesday', 'Turner', 'Two', 'U.K.', 'U.S.', 'UAL', 'US$', 'USAir', 'USX', 'Under', 'Union', 'Unisys', 'United', 'University', 'Until', 'Urban', 'Va.', 'Valley', 'Vegas', 'Viacom', 'Vice', 'Vietnam', 'Virginia', 'Volume', 'W.', 'WCRS', 'WPP', 'Wall', 'Walter', 'Wang', 'War', 'Warner', 'Warren', 'Warsaw', 'Washington', 'We', 'Webster', 'Wednesday', 'Wells', 'West', 'Western', 'Westinghouse', 'What', 'When', 'While', 'Whitbread', 'White', 'Who', 'Why', 'William', 'With', 'Within', 'Without', 'Witter', 'Wolf', 'Workers', 'World', 'Yesterday', 'Yet', 'York', 'York-based', 'You', 'Young', 'Your', 'Zealand', '`', '``', 'a', 'a.m', 'a.m.', 'abandoned', 'ability', 'able', 'abortion', 'abortions', 'about', 'above', 'abroad', 'academic', 'accept', 'accepted', 'access', 'accord', 'according', 'account', 'accounted', 'accounting', 'accounts', 'accused', 'achieved', 'acknowledged', 'acquire', 'acquired', 'acquiring', 'acquisition', 'acquisitions', 'acres', 'across', 'act', 'acting', 'action', 'actions', 'active', 'activists', 'activities', 'activity', 'acts', 'actual', 'actually', 'ad', 'add', 'added', 'adding', 'addition', 'additional', 'address', 'adds', 'adequate', 'adjusted', 'adjustments', 'administration', 'administrative', 'admitted', 'adopted', 'ads', 'advance', 'advanced', 'advantage', 'advertisers', 'advertising', 'advice', 'advised', 'adviser', 'advisers', 'aerospace', 'affairs', 'affect', 'affected', 'affiliate', 'afford', 'after', 'after-tax', 'afternoon', 'again', 'against', 'age', 'agencies', 'agency', 'agent', 'agents', 'aggressive', 'aggressively', 'ago', 'agree', 'agreed', 'agreement', 'agreements', 'ahead', 'aid', 'aide', 'aides', 'aimed', 'air', 'aircraft', 'airline', 'airlines', 'airport', 'all', 'allegations', 'alleged', 'allegedly', 'alliance', 'allies', 'allow', 'allowed', 'allowing', 'allows', 'almost', 'alone', 'along', 'already', 'also', 'alternative', 'alternatives', 'although', 'always', 'am', 'amendment', 'amid', 'among', 'amount', 'amounts', 'an', 'analysis', 'analyst', 'analysts', 'and', 'announce', 'announced', 'announcement', 'annual', 'annually', 'another', 'answer', 'anticipated', 'anticipation', 'antitrust', 'any', 'anybody', 'anyone', 'anything', 'anyway', 'apart', 'apparel', 'apparent', 'apparently', 'appeal', 'appeals', 'appear', 'appeared', 'appears', 'apple', 'applications', 'applied', 'apply', 'appointed', 'appreciation', 'approach', 'appropriate', 'appropriations', 'approval', 'approve', 'approved', 'approximately', 'arbitrage', 'are', 'area', 'areas', 'argue', 'argued', 'argues', 'argument', 'arm', 'around', 'arrangement', 'art', 'article', 'articles', 'as', 'aside', 'ask', 'asked', 'asking', 'aspects', 'assembly', 'asset', 'asset-backed', 'assets', 'assistance', 'assistant', 'associate', 'associated', 'association', 'assume', 'assumed', 'assumption', 'at', 'attached', 'attack', 'attempt', 'attempting', 'attention', 'attitude', 'attorney', 'attorneys', 'attract', 'attracted', 'attractive', 'attributed', 'auction', 'audience', 'audit', 'author', 'authorities', 'authority', 'authorized', 'auto', 'automotive', 'available', 'average', 'avoid', 'award', 'awarded', 'aware', 'away', 'back', 'backed', 'backing', 'bad', 'badly', 'bailout', 'balance', 'ban', 'bank', 'banker', 'bankers', 'banking', 'bankruptcy', 'bankruptcy-law', 'banks', 'barely', 'barrels', 'base', 'baseball', 'based', 'basic', 'basis', 'basket', 'battle', 'be', 'beat', 'became', 'because', 'become', 'becomes', 'becoming', 'been', 'beer', 'before', 'began', 'begin', 'beginning', 'begins', 'begun', 'behalf', 'behavior', 'behind', 'being', 'believe', 'believed', 'believes', 'below', 'benchmark', 'benefit', 'benefits', 'best', 'bet', 'better', 'between', 'beyond', 'bid', 'bidders', 'bidding', 'bids', 'big', 'bigger', 'biggest', 'bikes', 'bill', 'billion', 'billions', 'bills', 'biotechnology', 'bit', 'black', 'blacks', 'blame', 'blamed', 'bloc', 'block', 'blood', 'blow', 'blue-chip', 'board', 'boards', 'body', 'bolster', 'bond', 'bonds', 'book', 'books', 'boom', 'boost', 'boosted', 'boosting', 'borrow', 'borrowed', 'borrowing', 'both', 'bottom', 'bought', 'brain', 'branch', 'branches', 'brand', 'brands', 'break', 'breaking', 'brewing', 'bridge', 'brief', 'bring', 'bringing', 'broad', 'broadcast', 'broader', 'broke', 'broken', 'broker', 'brokerage', 'brokers', 'brought', 'budget', 'budgets', 'build', 'building', 'buildings', 'built', 'bulk', 'burden', 'bureau', 'business', 'businesses', 'businessmen', 'busy', 'but', 'buy', 'buy-back', 'buy-out', 'buy-outs', 'buyer', 'buyers', 'buying', 'by', 'ca', 'cable', 'calculated', 'call', 'called', 'calling', 'calls', 'came', 'campaign', 'can', 'canceled', 'cancer', 'candidate', 'candidates', 'capacity', 'capital', 'capital-gains', 'capped', 'car', 'cards', 'care', 'career', 'carried', 'carrier', 'carriers', 'carries', 'carry', 'carrying', 'cars', 'case', 'cases', 'cash', 'cast', 'catch', 'category', 'cattle', 'caught', 'cause', 'caused', 'causes', 'causing', 'caution', 'cautious', 'ceiling', 'cells', 'cellular', 'center', 'centers', 'central', 'cents', 'century', 'certain', 'certainly', 'certificates', 'chain', 'chains', 'chairman', 'challenge', 'chance', 'change', 'changed', 'changes', 'changing', 'character', 'charge', 'charged', 'charges', 'charging', 'charities', 'charity', 'cheap', 'cheaper', 'check', 'checks', 'chemical', 'chemicals', 'chief', 'child', 'children', 'chip', 'chips', 'choice', 'choose', 'circumstances', 'cited', 'cities', 'citing', 'citizens', 'city', 'civil', 'claim', 'claimed', 'claims', 'class', 'classes', 'clear', 'cleared', 'clearly', 'client', 'clients', 'climate', 'climbed', 'close', 'closed', 'closely', 'closer', 'closing', 'club', 'coal', 'coffee', 'cold', 'collapse', 'collapsed', 'colleagues', 'collection', 'college', 'color', 'combination', 'combined', 'come', 'comes', 'comfortable', 'coming', 'comment', 'comments', 'commercial', 'commission', 'commissions', 'commitment', 'commitments', 'committed', 'committee', 'committees', 'commodity', 'common', 'communications', 'community', 'companies', 'company', 'comparable', 'compared', 'compares', 'comparison', 'compensation', 'compete', 'competing', 'competition', 'competitive', 'competitors', 'complain', 'complained', 'complaints', 'complete', 'completed', 'completely', 'complex', 'composite', 'compromise', 'computer', 'computers', 'concedes', 'concentrate', 'concept', 'concern', 'concerned', 'concerns', 'concluded', 'concrete', 'condition', 'conditions', 'conduct', 'conducted', 'conference', 'confidence', 'confident', 'confirmed', 'conglomerate', 'congressional', 'connection', 'consecutive', 'consensus', 'consequences', 'conservative', 'consider', 'considerable', 'consideration', 'considered', 'considering', 'constitutional', 'construction', 'consultant', 'consultants', 'consulting', 'consumer', 'consumers', 'consumption', 'contend', 'contends', 'continue', 'continued', 'continues', 'continuing', 'contract', 'contractor', 'contracts', 'contrast', 'contributed', 'contributions', 'control', 'controlled', 'controlling', 'controls', 'controversial', 'controversy', 'conventional', 'convert', 'converted', 'convertible', 'convicted', 'convinced', 'cooperation', 'copies', 'copper', 'copy', 'core', 'corn', 'corporate', 'corporation', 'corporations', 'correct', 'cosmetics', 'cost', 'costly', 'costs', 'could', 'counsel', 'counter', 'countries', 'country', 'coup', 'couple', 'coupon', 'course', 'court', 'courts', 'cover', 'coverage', 'covered', 'covering', 'crash', 'create', 'created', 'creating', 'creative', 'credibility', 'credit', 'credit-card', 'creditors', 'credits', 'crime', 'crimes', 'criminal', 'crisis', 'critical', 'criticism', 'criticized', 'critics', 'crop', 'crucial', 'crude', 'culture', 'curb', 'currencies', 'currency', 'current', 'currently', 'customer', 'customers', 'cut', 'cuts', 'cutting', 'cycle', 'daily', 'damage', 'damaged', 'damages', 'dangerous', 'data', 'date', 'day', 'days', 'de', 'dead', 'deadline', 'deal', 'dealer', 'dealers', 'dealing', 'dealings', 'deals', 'death', 'deaths', 'debate', 'debentures', 'debt', 'debts', 'decade', 'decades', 'decide', 'decided', 'decision', 'decisions', 'declared', 'decline', 'declined', 'declines', 'declining', 'deep', 'default', 'defend', 'defendants', 'defense', 'defensive', 'deficit', 'definitive', 'degree', 'delay', 'delayed', 'delays', 'deliver', 'delivered', 'delivery', 'demand', 'demands', 'democracy', 'denied', 'deny', 'department', 'departments', 'depends', 'deposit', 'deposits', 'depressed', 'deputy', 'described', 'design', 'designed', 'desire', 'despite', 'detailed', 'details', 'determine', 'determined', 'develop', 'developed', 'developer', 'developers', 'developing', 'development', 'developments', 'device', 'devices', 'did', 'died', 'difference', 'differences', 'different', 'difficult', 'difficulties', 'difficulty', 'direct', 'direction', 'directly', 'director', 'directors', 'disappointed', 'disappointing', 'disaster', 'discipline', 'disclose', 'disclosed', 'disclosure', 'discount', 'discounting', 'discovered', 'discuss', 'discussed', 'discussing', 'discussions', 'disk', 'display', 'dispute', 'distributed', 'distribution', 'district', 'districts', 'divided', 'dividend', 'dividends', 'division', 'divisions', 'do', 'doctors', 'documents', 'does', 'doing', 'dollar', 'dollars', 'domestic', 'donations', 'done', 'door', 'double', 'doubled', 'doubt', 'down', 'downtown', 'downturn', 'downward', 'dozen', 'dramatic', 'draw', 'drive', 'drives', 'driving', 'drop', 'dropped', 'dropping', 'drug', 'drugs', 'due', 'durable', 'during', 'duties', 'each', 'eager', 'earlier', 'early', 'earn', 'earned', 'earnings', 'earthquake', 'ease', 'eased', 'easier', 'easily', 'easy', 'economic', 'economies', 'economist', 'economists', 'economy', 'edge', 'edition', 'editor', 'editorial', 'education', 'educational', 'effect', 'effective', 'effectively', 'effects', 'efficient', 'effort', 'efforts', 'eggs', 'eight', 'either', 'elaborate', 'elected', 'election', 'elections', 'electric', 'electronic', 'electronics', 'eliminate', 'else', 'elsewhere', 'emergency', 'emerging', 'emphasis', 'employee', 'employees', 'employers', 'employment', 'encourage', 'encouraged', 'end', 'ended', 'ending', 'energy', 'engaged', 'engine', 'engineering', 'engineers', 'enormous', 'enough', 'ensure', 'enter', 'entered', 'entertainment', 'entire', 'entirely', 'environment', 'environmental', 'equal', 'equipment', 'equity', 'equivalent', 'especially', 'essential', 'essentially', 'establish', 'established', 'estate', 'estimate', 'estimated', 'estimates', 'even', 'event', 'events', 'eventually', 'ever', 'every', 'everybody', 'everyone', 'everything', 'evidence', 'exactly', 'example', 'exceed', 'exceeded', 'except', 'excess', 'exchange', 'exchanges', 'excluding', 'exclusive', 'executive', 'executives', 'exercise', 'exist', 'existing', 'expand', 'expanded', 'expanding', 'expansion', 'expect', 'expectations', 'expected', 'expects', 'expense', 'expenses', 'expensive', 'experience', 'experienced', 'experiment', 'experiments', 'expert', 'experts', 'expiration', 'expire', 'expires', 'explain', 'exploration', 'export', 'exports', 'exposure', 'expressed', 'extend', 'extended', 'extent', 'extra', 'extraordinary', 'extremely', 'eye', 'eyes', 'face', 'faced', 'faces', 'facilities', 'facility', 'facing', 'fact', 'factor', 'factories', 'factors', 'factory', 'fail', 'failed', 'failure', 'fair', 'fairly', 'fall', 'fallen', 'falling', 'false', 'familiar', 'families', 'family', 'famous', 'fans', 'far', 'farm', 'farmer', 'farmers', 'fashion', 'fast', 'fast-food', 'faster', 'father', 'favor', 'favorable', 'fear', 'fears', 'features', 'federal', 'fee', 'feel', 'feeling', 'fees', 'feet', 'fell', 'fellow', 'felt', 'few', 'fewer', 'field', 'fields', 'fight', 'fighting', 'figure', 'figures', 'file', 'filed', 'filing', 'filings', 'fill', 'filled', 'film', 'final', 'finally', 'finance', 'financial', 'financially', 'financier', 'financing', 'find', 'finding', 'fine', 'finished', 'fire', 'firm', 'firms', 'first', 'fiscal', 'fit', 'five', 'five-year', 'fixed', 'flag', 'flat', 'fleet', 'flight', 'flights', 'floor', 'flow', 'fly', 'flying', 'focus', 'follow', 'followed', 'following', 'follows', 'food', 'football', 'for', 'force', 'forced', 'forces', 'forecast', 'forecasts', 'foreign', 'foreign-exchange', 'foreigners', 'form', 'formal', 'formed', 'former', 'formerly', 'forms', 'forward', 'found', 'founded', 'founder', 'four', 'fourth', 'fourth-quarter', 'franchise', 'francs', 'fraud', 'free', 'freedom', 'freight', 'frequently', 'fresh', 'friend', 'friendly', 'friends', 'from', 'front', 'fuel', 'full', 'fully', 'fund', 'fundamental', 'funding', 'funds', 'further', 'future', 'futures', 'gain', 'gained', 'gains', 'game', 'games', 'gap', 'garden', 'gas', 'gasoline', 'gave', 'gene', 'general', 'generally', 'generate', 'generation', 'genes', 'genetic', 'get', 'gets', 'getting', 'ghost', 'giant', 'give', 'given', 'gives', 'giving', 'glass', 'global', 'go', 'goal', 'goals', 'goes', 'going', 'gold', 'golden', 'gone', 'good', 'goods', 'got', 'gotten', 'government', 'governments', 'governor', 'grain', 'grand', 'grants', 'graphics', 'great', 'greater', 'greatest', 'greatly', 'grew', 'gross', 'ground', 'group', 'groups', 'grow', 'growing', 'grown', 'growth', 'guarantee', 'guaranteed', 'guarantees', 'guide', 'guidelines', 'guilty', 'guy', 'gyrations', 'had', 'half', 'halt', 'hand', 'handful', 'handle', 'handled', 'handling', 'hands', 'happen', 'happened', 'happens', 'happy', 'hard', 'harder', 'hardly', 'has', 'have', 'having', 'he', 'head', 'headed', 'headquarters', 'heads', 'health', 'health-care', 'healthy', 'hear', 'heard', 'hearing', 'hearings', 'heart', 'heat', 'heavily', 'heavy', 'held', 'help', 'helped', 'helping', 'helps', 'her', 'here', 'high', 'high-risk', 'high-yield', 'higher', 'highest', 'highly', 'highway', 'him', 'himself', 'hired', 'his', 'history', 'hit', 'hits', 'hold', 'holder', 'holders', 'holding', 'holdings', 'holds', 'home', 'homes', 'hope', 'hoped', 'hopes', 'hoping', 'hospital', 'hospitals', 'host', 'hostile', 'hot', 'hotel', 'hour', 'hours', 'house', 'household', 'houses', 'housing', 'how', 'however', 'huge', 'human', 'hundred', 'hundreds', 'hurt', 'husband', 'idea', 'ideas', 'identified', 'identify', 'if', 'illegal', 'image', 'immediate', 'immediately', 'impact', 'import', 'importance', 'important', 'imported', 'imports', 'imposed', 'impossible', 'improve', 'improved', 'improvement', 'improvements', 'in', 'incentives', 'include', 'included', 'includes', 'including', 'income', 'increase', 'increased', 'increases', 'increasing', 'increasingly', 'indeed', 'independent', 'index', 'indicate', 'indicated', 'indicates', 'indicating', 'indication', 'indications', 'indicators', 'indictment', 'individual', 'individuals', 'industrial', 'industrials', 'industries', 'industry', 'inflation', 'influence', 'information', 'initial', 'initially', 'initiative', 'injured', 'injuries', 'inquiry', 'inside', 'insist', 'instance', 'instead', 'institution', 'institutional', 'institutions', 'instruments', 'insurance', 'insured', 'insurer', 'insurers', 'intelligence', 'intended', 'intends', 'intense', 'intent', 'interest', 'interest-rate', 'interested', 'interests', 'internal', 'international', 'interview', 'into', 'introduce', 'introduced', 'inventories', 'inventory', 'invest', 'invested', 'investigation', 'investing', 'investment', 'investments', 'investor', 'investors', 'involve', 'involved', 'involvement', 'involving', 'is', 'issue', 'issued', 'issues', 'it', 'items', 'its', 'itself', 'job', 'jobs', 'join', 'joined', 'joining', 'joint', 'jointly', 'judge', 'judges', 'judicial', 'jump', 'jumped', 'junk', 'junk-bond', 'jury', 'just', 'keep', 'keeping', 'kept', 'key', 'kill', 'killed', 'kind', 'knew', 'know', 'known', 'knows', 'labor', 'labor-management', 'lack', 'land', 'language', 'large', 'largely', 'larger', 'largest', 'last', 'late', 'later', 'latest', 'launch', 'launched', 'law', 'lawmakers', 'laws', 'lawsuit', 'lawsuits', 'lawyer', 'lawyers', 'lead', 'leader', 'leaders', 'leadership', 'leading', 'leads', 'learn', 'learned', 'least', 'leave', 'leaves', 'leaving', 'led', 'left', 'legal', 'legislation', 'legislative', 'legislators', 'lenders', 'lending', 'less', 'let', 'letter', 'letters', 'level', 'levels', 'leverage', 'leveraged', 'liability', 'license', 'lies', 'life', 'lift', 'light', 'like', 'likely', 'limit', 'limited', 'limits', 'line', 'line-item', 'lines', 'link', 'linked', 'liquidity', 'lire', 'list', 'listed', 'lists', 'litigation', 'little', 'live', 'lives', 'living', 'load', 'loan', 'loans', 'local', 'location', 'long', 'long-term', 'longer', 'longtime', 'look', 'looked', 'looking', 'looks', 'lose', 'losing', 'loss', 'losses', 'lost', 'lot', 'lots', 'love', 'low', 'lower', 'lowered', 'loyal', 'loyalty', 'luxury', 'machine', 'machinery', 'machines', 'machinists', 'made', 'magazine', 'magazines', 'mail', 'main', 'mainframe', 'mainframes', 'mainly', 'maintain', 'maintained', 'maintenance', 'major', 'majority', 'make', 'maker', 'makers', 'makes', 'making', 'man', 'manage', 'managed', 'management', 'manager', 'managers', 'manages', 'managing', 'manufacturer', 'manufacturers', 'manufacturing', 'many', 'margin', 'margins', 'mark', 'marked', 'market', 'marketing', 'marketplace', 'markets', 'marks', 'mart', 'massive', 'match', 'material', 'materials', 'matter', 'matters', 'maturity', 'maximum', 'may', 'maybe', 'mayor', 'me', 'mean', 'means', 'meant', 'meanwhile', 'measure', 'measures', 'media', 'medical', 'meet', 'meeting', 'meetings', 'member', 'members', 'membership', 'memory', 'men', 'mentioned', 'merchandise', 'merchant', 'merely', 'merge', 'merger', 'mergers', 'message', 'met', 'metal', 'metals', 'method', 'metric', 'middle', 'might', 'miles', 'military', 'milk', 'mill', 'million', 'millions', 'mind', 'mine', 'minimum', 'mining', 'minister', 'ministry', 'minor', 'minority', 'minutes', 'missing', 'mixed', 'model', 'models', 'moderate', 'modern', 'modest', 'moment', 'monetary', 'money', 'monitor', 'monitoring', 'month', 'monthly', 'months', 'more', 'morning', 'mortgage', 'mortgages', 'most', 'mostly', 'mother', 'mountain', 'move', 'moved', 'movement', 'moves', 'movie', 'movies', 'moving', 'much', 'municipal', 'music', 'must', 'mutual', 'my', \"n't\", 'name', 'named', 'names', 'narrow', 'nation', 'national', 'nations', 'nationwide', 'natural', 'nature', 'near', 'nearly', 'necessary', 'need', 'needed', 'needs', 'negative', 'negotiated', 'negotiating', 'negotiations', 'neither', 'nervous', 'net', 'network', 'networks', 'never', 'new', 'newly', 'news', 'newsletter', 'newspaper', 'newspapers', 'next', 'night', 'nine', 'no', 'nobody', 'none', 'nor', 'normal', 'normally', 'northern', 'not', 'note', 'noted', 'notes', 'nothing', 'noting', 'novel', 'now', 'nuclear', 'number', 'numbers', 'numerous', 'obligation', 'observers', 'obtain', 'obtained', 'obvious', 'occurred', 'of', 'off', 'offer', 'offered', 'offering', 'offerings', 'offers', 'office', 'officer', 'officers', 'offices', 'official', 'officials', 'offset', 'often', 'oil', 'old', 'older', 'on', 'once', 'one', 'one-third', 'one-time', 'one-year', 'ones', 'only', 'onto', 'open', 'opened', 'opening', 'operate', 'operates', 'operating', 'operation', 'operations', 'operator', 'operators', 'opinion', 'opportunities', 'opportunity', 'oppose', 'opposed', 'opposition', 'optimistic', 'option', 'options', 'or', 'order', 'ordered', 'orders', 'organization', 'organizations', 'organized', 'original', 'originally', 'other', 'others', 'otherwise', 'ought', 'ounce', 'our', 'out', 'outcome', 'outlets', 'outlook', 'output', 'outside', 'outstanding', 'over', 'over-the-counter', 'overall', 'overhaul', 'overnight', 'overseas', 'owed', 'own', 'owned', 'owner', 'owners', 'ownership', 'owns', 'p.m.', 'pace', 'package', 'packages', 'packaging', 'pact', 'pages', 'paid', 'paintings', 'panel', 'paper', 'papers', 'par', 'parent', 'parents', 'part', 'partial', 'participants', 'participate', 'participation', 'particular', 'particularly', 'parties', 'partly', 'partner', 'partners', 'partnership', 'partnerships', 'parts', 'party', 'pass', 'passed', 'past', 'patent', 'patients', 'pattern', 'pay', 'payable', 'paying', 'payment', 'payments', 'pays', 'peace', 'penalties', 'penalty', 'pence', 'pending', 'pension', 'people', 'per', 'per-share', 'percentage', 'performance', 'perhaps', 'period', 'permanent', 'permission', 'permit', 'permitted', 'person', 'personal', 'personnel', 'petroleum', 'pharmaceutical', 'phone', 'pick', 'picked', 'picture', 'piece', 'pieces', 'pill', 'pilot', 'pilots', 'pipeline', 'place', 'placed', 'places', 'plan', 'plane', 'planes', 'planned', 'planners', 'planning', 'plans', 'plant', 'plants', 'plastic', 'plastics', 'play', 'played', 'player', 'players', 'playing', 'plays', 'plea', 'pleaded', 'plenty', 'plummeted', 'plunge', 'plunged', 'plus', 'point', 'points', 'poison', 'police', 'policies', 'policy', 'political', 'politicians', 'politics', 'poll', 'pollution', 'poor', 'popular', 'population', 'portfolio', 'portfolios', 'portion', 'position', 'positions', 'positive', 'possibility', 'possible', 'possibly', 'post', 'posted', 'posts', 'potential', 'potentially', 'pound', 'pounds', 'poverty', 'power', 'powerful', 'practice', 'practices', 'predict', 'predicted', 'predicting', 'prefer', 'preferred', 'preliminary', 'premium', 'premiums', 'prepared', 'presence', 'present', 'presented', 'president', 'presidential', 'press', 'pressure', 'pressures', 'pretax', 'pretty', 'prevent', 'previous', 'previously', 'price', 'priced', 'prices', 'pricing', 'primarily', 'primary', 'prime', 'principal', 'principle', 'printing', 'prior', 'priority', 'prison', 'private', 'privately', 'probably', 'probe', 'problem', 'problems', 'procedures', 'proceedings', 'proceeds', 'process', 'processing', 'produce', 'produced', 'producer', 'producers', 'produces', 'producing', 'product', 'production', 'productivity', 'products', 'professional', 'professor', 'profit', 'profitability', 'profitable', 'profits', 'program', 'programs', 'progress', 'project', 'projected', 'projections', 'projects', 'promise', 'promised', 'promises', 'promote', 'promotion', 'prompted', 'properties', 'property', 'proposal', 'proposals', 'proposed', 'prosecutors', 'prospect', 'prospects', 'protect', 'protected', 'protection', 'prove', 'proved', 'provide', 'provided', 'provides', 'providing', 'provision', 'provisions', 'psyllium', 'public', 'publicly', 'published', 'publisher', 'publishing', 'pulled', 'pulp', 'purchase', 'purchased', 'purchases', 'purchasing', 'purpose', 'purposes', 'pursue', 'push', 'pushed', 'pushing', 'put', 'puts', 'putting', 'quake', 'quality', 'quarter', 'quarterly', 'quarters', 'question', 'questions', 'quick', 'quickly', 'quiet', 'quite', 'quotations', 'quoted', 'race', 'radio', 'raise', 'raised', 'raises', 'raising', 'rallied', 'rally', 'ran', 'range', 'ranging', 'rape', 'rapid', 'rapidly', 'rare', 'rate', 'rated', 'rates', 'rather', 'rating', 'ratings', 'ratio', 'raw', 'reach', 'reached', 'reaction', 'read', 'readers', 'reading', 'ready', 'real', 'real-estate', 'realize', 'really', 'reason', 'reasonable', 'reasons', 'rebels', 'rebound', 'rebounded', 'recalls', 'recapitalization', 'receipts', 'receive', 'received', 'recent', 'recently', 'recession', 'recommended', 'record', 'recorded', 'records', 'recover', 'recovered', 'recovery', 'red', 'reduce', 'reduced', 'reducing', 'reduction', 'reductions', 'referring', 'refinery', 'reflect', 'reflected', 'reflecting', 'reflects', 'reform', 'reforms', 'refused', 'regarding', 'regime', 'region', 'regional', 'registered', 'regular', 'regulation', 'regulations', 'regulators', 'regulatory', 'reinsurance', 'rejected', 'related', 'relations', 'relationship', 'relative', 'relatively', 'release', 'released', 'relief', 'reluctant', 'remain', 'remained', 'remaining', 'remains', 'remarks', 'remove', 'renewed', 'reorganization', 'repair', 'repeated', 'replace', 'replaced', 'report', 'reported', 'reportedly', 'reporters', 'reporting', 'reports', 'represent', 'representatives', 'represented', 'representing', 'represents', 'repurchase', 'reputation', 'request', 'requested', 'requests', 'require', 'required', 'requirements', 'requires', 'requiring', 'rescue', 'research', 'researchers', 'reserve', 'reserves', 'reset', 'residents', 'resignation', 'resigned', 'resistance', 'resolution', 'resolve', 'resolved', 'resort', 'resources', 'respectively', 'respond', 'responded', 'response', 'responsibility', 'responsible', 'rest', 'restaurant', 'restaurants', 'restore', 'restrictions', 'restructure', 'restructuring', 'result', 'resulted', 'resulting', 'results', 'resume', 'retail', 'retailer', 'retailers', 'retailing', 'retain', 'retire', 'retired', 'retirement', 'return', 'returned', 'returns', 'revenue', 'revenues', 'review', 'revised', 'revive', 'rich', 'ride', 'right', 'rights', 'rise', 'risen', 'rising', 'risk', 'risks', 'risky', 'rival', 'rivals', 'road', 'robust', 'role', 'roll', 'room', 'rooms', 'rose', 'roughly', 'round', 'rule', 'ruled', 'rules', 'ruling', 'rumors', 'run', 'running', 'runs', 'safe', 'safety', 'said', 'sale', 'sales', 'same', 'save', 'savings', 'saw', 'say', 'saying', 'says', 'scale', 'scandal', 'scenario', 'scene', 'schedule', 'scheduled', 'scheme', 'school', 'schools', 'scientific', 'scientists', 'screen', 'search', 'season', 'seasonally', 'seat', 'seats', 'second', 'second-largest', 'secondary', 'secret', 'secretary', 'section', 'sector', 'sectors', 'secure', 'secured', 'securities', 'security', 'see', 'seed', 'seeing', 'seek', 'seeking', 'seeks', 'seem', 'seemed', 'seems', 'seen', 'sees', 'segment', 'selected', 'sell', 'sell-off', 'sellers', 'selling', 'sells', 'semiconductor', 'senators', 'send', 'senior', 'sense', 'sensitive', 'sent', 'sentiment', 'separate', 'separately', 'series', 'serious', 'seriously', 'serve', 'served', 'service', 'services', 'session', 'set', 'sets', 'setting', 'settle', 'settled', 'settlement', 'seven', 'several', 'severe', 'sex', 'shall', 'shape', 'share', 'shareholder', 'shareholders', 'shares', 'sharp', 'sharply', 'she', 'sheet', 'shift', 'ship', 'shipments', 'shipping', 'ships', 'shop', 'shopping', 'shops', 'short', 'short-term', 'shortly', 'shot', 'should', 'show', 'showed', 'showing', 'shown', 'shows', 'shut', 'side', 'sides', 'sign', 'signal', 'signed', 'significant', 'significantly', 'signs', 'silver', 'similar', 'simple', 'simply', 'since', 'single', 'sit', 'site', 'situation', 'six', 'six-month', 'size', 'slid', 'slide', 'slight', 'slightly', 'slipped', 'slow', 'slowdown', 'slowed', 'slower', 'slowing', 'sluggish', 'slump', 'small', 'smaller', 'so', 'so-called', 'soared', 'social', 'society', 'soft', 'software', 'sold', 'solid', 'solution', 'some', 'somebody', 'someone', 'something', 'sometimes', 'somewhat', 'son', 'soon', 'sophisticated', 'sort', 'sought', 'sound', 'source', 'sources', 'southern', 'space', 'special', 'specialist', 'specialists', 'specialty', 'specific', 'speculation', 'speculators', 'speech', 'speed', 'spend', 'spending', 'spent', 'spirits', 'split', 'spokesman', 'spokeswoman', 'sports', 'spot', 'spread', 'spring', 'square', 'squeeze', 'stability', 'stable', 'staff', 'stage', 'stake', 'stakes', 'stand', 'standard', 'standards', 'standing', 'stands', 'start', 'start-up', 'started', 'starting', 'starts', 'state', 'state-owned', 'stated', 'statement', 'statements', 'states', 'station', 'stations', 'statistics', 'status', 'stay', 'steady', 'steel', 'steelmakers', 'steep', 'stem', 'step', 'steps', 'sterling', 'still', 'stock', 'stock-index', 'stock-market', 'stocks', 'stood', 'stop', 'stopped', 'storage', 'store', 'stores', 'stories', 'story', 'straight', 'strategic', 'strategies', 'strategist', 'strategy', 'street', 'strength', 'stress', 'strike', 'strong', 'stronger', 'strongly', 'struck', 'structural', 'structure', 'student', 'students', 'studies', 'studio', 'study', 'studying', 'stuff', 'style', 'subcommittee', 'subject', 'submitted', 'subordinated', 'subscribers', 'subsidiaries', 'subsidiary', 'subsidies', 'substantial', 'substantially', 'succeed', 'succeeded', 'succeeding', 'succeeds', 'success', 'successful', 'successor', 'such', 'sudden', 'sued', 'suffer', 'suffered', 'sufficient', 'suggest', 'suggested', 'suggests', 'suit', 'suits', 'summer', 'supplier', 'supplies', 'supply', 'support', 'supported', 'supporters', 'supporting', 'supposed', 'sure', 'surge', 'surged', 'surplus', 'surprise', 'surprised', 'surprising', 'surprisingly', 'survey', 'surveyed', 'suspended', 'suspension', 'sustained', 'swings', 'switch', 'syndicate', 'system', 'systems', 'table', 'take', 'taken', 'takeover', 'takeovers', 'takes', 'taking', 'talk', 'talking', 'talks', 'tape', 'target', 'targets', 'task', 'tax', 'taxable', 'taxes', 'taxpayers', 'team', 'teams', 'technical', 'technique', 'technology', 'telecommunications', 'telephone', 'television', 'tell', 'telling', 'tells', 'temporarily', 'temporary', 'tend', 'tender', 'tentatively', 'term', 'terms', 'terrorism', 'test', 'testimony', 'tests', 'than', 'that', 'the', 'theater', 'their', 'them', 'theme', 'themselves', 'then', 'theory', 'there', 'these', 'they', 'thin', 'thing', 'things', 'think', 'thinking', 'thinks', 'third', 'third-quarter', 'this', 'those', 'though', 'thought', 'thousands', 'threat', 'threatened', 'three', 'three-month', 'three-year', 'thrift', 'thrifts', 'through', 'throughout', 'thus', 'ticket', 'tied', 'ties', 'tight', 'time', 'times', 'timing', 'tiny', 'title', 'to', 'tobacco', 'today', 'together', 'told', 'tomorrow', 'tone', 'tons', 'too', 'took', 'tools', 'top', 'total', 'totaled', 'totaling', 'totally', 'tough', 'tourists', 'toward', 'town', 'track', 'trade', 'traded', 'trader', 'traders', 'trades', 'trading', 'traditional', 'traffic', 'training', 'transaction', 'transactions', 'transfer', 'transferred', 'transportation', 'travel', 'treatment', 'treaty', 'trend', 'trends', 'trial', 'tried', 'triggered', 'trillion', 'trip', 'trouble', 'troubled', 'troubles', 'truck', 'trucks', 'true', 'trust', 'try', 'trying', 'tumbled', 'turmoil', 'turn', 'turned', 'turning', 'turnover', 'turns', 'twice', 'two', 'two-thirds', 'two-year', 'type', 'types', 'typical', 'typically', 'ultimately', 'unable', 'uncertainty', 'unchanged', 'under', 'underlying', 'understand', 'underwriter', 'underwriters', 'unemployment', 'union', 'unions', 'unit', 'units', 'university', 'unless', 'unlike', 'unlikely', 'unsecured', 'until', 'unusual', 'up', 'upon', 'urban', 'urged', 'urging', 'us', 'use', 'used', 'users', 'uses', 'using', 'usual', 'usually', 'utilities', 'utility', 'value', 'valued', 'values', 'variety', 'various', 'vary', 'vast', 'vehicle', 'vehicles', 'venture', 'ventures', 'version', 'versions', 'very', 'veteran', 'veto', 'via', 'vice', 'victims', 'victory', 'video', 'view', 'viewed', 'viewers', 'views', 'virtually', 'visit', 'visitors', 'voice', 'volatile', 'volatility', 'volume', 'vote', 'voted', 'voters', 'votes', 'voting', 'vs.', 'wage', 'wages', 'wait', 'waiting', 'wake', 'wall', 'walls', 'want', 'wanted', 'wants', 'war', 'warned', 'warning', 'warrant', 'warrants', 'was', 'waste', 'watch', 'watched', 'watching', 'water', 'wave', 'way', 'ways', 'we', 'weak', 'weaker', 'weakness', 'weapons', 'weather', 'week', 'weekend', 'weekly', 'weeks', 'weight', 'well', 'well-known', 'went', 'were', 'what', 'whatever', 'when', 'where', 'whether', 'which', 'while', 'white', 'whites', 'who', 'whole', 'wholesale', 'whom', 'whose', 'why', 'wide', 'widely', 'widespread', 'wife', 'wild', 'will', 'willing', 'win', 'winning', 'winter', 'wish', 'with', 'within', 'without', 'wo', 'woman', 'women', 'won', 'wonder', 'word', 'words', 'work', 'worked', 'worker', 'workers', 'working', 'works', 'world', 'world-wide', 'worried', 'worry', 'worse', 'worst', 'worth', 'would', 'write', 'writer', 'writing', 'written', 'wrong', 'wrote', 'year', 'year-ago', 'year-earlier', 'years', 'yen', 'yesterday', 'yet', 'yield', 'yields', 'you', 'young', 'younger', 'your', 'zero-coupon']\n",
      "there are 4003 word embeddings.\n"
     ]
    },
    {
     "name": "stdout",
     "output_type": "stream",
     "text": [
      "Determining POS tags...['ADJ', 'ADP', 'ADV', 'AUX', 'CONJ', 'DET', 'INTJ', 'NOUN', 'NUM', 'PART', 'PRON', 'PROPN', 'PUNCT', 'SCONJ', 'SYM', 'VERB', 'X']\n",
      "there are 17 tags.\n",
      "Determining deprel labels...['acl', 'acl:relcl', 'advcl', 'advmod', 'amod', 'appos', 'aux', 'auxpass', 'case', 'cc', 'cc:preconj', 'ccomp', 'compound', 'compound:prt', 'conj', 'cop', 'csubj', 'csubjpass', 'dep', 'det', 'det:predet', 'discourse', 'dobj', 'expl', 'iobj', 'mark', 'mwe', 'neg', 'nmod', 'nmod:npmod', 'nmod:poss', 'nmod:tmod', 'nsubj', 'nsubjpass', 'nummod', 'parataxis', 'punct', 'root', 'xcomp']\n",
      "there are 39 deprel labels.\n",
      "Getting training data..."
     ]
    },
    {
     "name": "stderr",
     "output_type": "stream",
     "text": [
      "ERROR:root:Internal Python error in the inspect module.\n",
      "Below is the traceback from this internal error.\n",
      "\n"
     ]
    },
    {
     "name": "stdout",
     "output_type": "stream",
     "text": [
      "Traceback (most recent call last):\n",
      "  File \"/usr/local/anaconda3/envs/tf/lib/python3.7/site-packages/IPython/core/interactiveshell.py\", line 3331, in run_code\n",
      "    exec(code_obj, self.user_global_ns, self.user_ns)\n",
      "  File \"<ipython-input-2-f39a3b355532>\", line 13, in <module>\n",
      "    max_batch_size=config.batch_size)\n",
      "  File \"/Users/aryavohra/newprojects/spacy-ios/neural-dependency-parser/data.py\", line 585, in load_and_preprocess_data\n",
      "    transition_cache=transition_cache, seed=seed,\n",
      "  File \"/Users/aryavohra/newprojects/spacy-ios/neural-dependency-parser/data.py\", line 415, in __init__\n",
      "    self._construct_all_data()\n",
      "  File \"/Users/aryavohra/newprojects/spacy-ios/neural-dependency-parser/data.py\", line 427, in _construct_all_data\n",
      "    for feat_vecs, td_vec in data_iter:\n",
      "  File \"/Users/aryavohra/newprojects/spacy-ios/neural-dependency-parser/data.py\", line 278, in graphs2feats_and_tds\n",
      "    feat_tups.append(self.pp2feat(pp))\n",
      "  File \"/Users/aryavohra/newprojects/spacy-ios/neural-dependency-parser/data.py\", line 182, in pp2feat\n",
      "    deprel = next(arc[2] for arc in pp.arcs if arc[1] == l_dep)\n",
      "  File \"/Users/aryavohra/newprojects/spacy-ios/neural-dependency-parser/data.py\", line 182, in <genexpr>\n",
      "    deprel = next(arc[2] for arc in pp.arcs if arc[1] == l_dep)\n",
      "KeyboardInterrupt\n",
      "\n",
      "During handling of the above exception, another exception occurred:\n",
      "\n",
      "Traceback (most recent call last):\n",
      "  File \"/usr/local/anaconda3/envs/tf/lib/python3.7/site-packages/IPython/core/interactiveshell.py\", line 2044, in showtraceback\n",
      "    stb = value._render_traceback_()\n",
      "AttributeError: 'KeyboardInterrupt' object has no attribute '_render_traceback_'\n",
      "\n",
      "During handling of the above exception, another exception occurred:\n",
      "\n",
      "Traceback (most recent call last):\n",
      "  File \"/usr/local/anaconda3/envs/tf/lib/python3.7/site-packages/IPython/core/ultratb.py\", line 1148, in get_records\n",
      "    return _fixed_getinnerframes(etb, number_of_lines_of_context, tb_offset)\n",
      "  File \"/usr/local/anaconda3/envs/tf/lib/python3.7/site-packages/IPython/core/ultratb.py\", line 316, in wrapped\n",
      "    return f(*args, **kwargs)\n",
      "  File \"/usr/local/anaconda3/envs/tf/lib/python3.7/site-packages/IPython/core/ultratb.py\", line 350, in _fixed_getinnerframes\n",
      "    records = fix_frame_records_filenames(inspect.getinnerframes(etb, context))\n",
      "  File \"/usr/local/anaconda3/envs/tf/lib/python3.7/inspect.py\", line 1502, in getinnerframes\n",
      "    frameinfo = (tb.tb_frame,) + getframeinfo(tb, context)\n",
      "  File \"/usr/local/anaconda3/envs/tf/lib/python3.7/inspect.py\", line 1460, in getframeinfo\n",
      "    filename = getsourcefile(frame) or getfile(frame)\n",
      "  File \"/usr/local/anaconda3/envs/tf/lib/python3.7/inspect.py\", line 696, in getsourcefile\n",
      "    if getattr(getmodule(object, filename), '__loader__', None) is not None:\n",
      "  File \"/usr/local/anaconda3/envs/tf/lib/python3.7/inspect.py\", line 733, in getmodule\n",
      "    if ismodule(module) and hasattr(module, '__file__'):\n",
      "  File \"/usr/local/anaconda3/envs/tf/lib/python3.7/site-packages/tensorflow/__init__.py\", line 50, in __getattr__\n",
      "    module = self._load()\n",
      "  File \"/usr/local/anaconda3/envs/tf/lib/python3.7/site-packages/tensorflow/__init__.py\", line 44, in _load\n",
      "    module = _importlib.import_module(self.__name__)\n",
      "  File \"/usr/local/anaconda3/envs/tf/lib/python3.7/importlib/__init__.py\", line 127, in import_module\n",
      "    return _bootstrap._gcd_import(name[level:], package, level)\n",
      "  File \"<frozen importlib._bootstrap>\", line 1006, in _gcd_import\n",
      "  File \"<frozen importlib._bootstrap>\", line 983, in _find_and_load\n",
      "  File \"<frozen importlib._bootstrap>\", line 967, in _find_and_load_unlocked\n",
      "  File \"<frozen importlib._bootstrap>\", line 677, in _load_unlocked\n",
      "  File \"<frozen importlib._bootstrap_external>\", line 728, in exec_module\n",
      "  File \"<frozen importlib._bootstrap>\", line 219, in _call_with_frames_removed\n",
      "  File \"/usr/local/anaconda3/envs/tf/lib/python3.7/site-packages/tensorflow_core/contrib/__init__.py\", line 90, in <module>\n",
      "    from tensorflow.contrib import tensor_forest\n",
      "  File \"/usr/local/anaconda3/envs/tf/lib/python3.7/site-packages/tensorflow_core/contrib/tensor_forest/__init__.py\", line 21, in <module>\n",
      "    from tensorflow.contrib.tensor_forest.client import *\n",
      "  File \"/usr/local/anaconda3/envs/tf/lib/python3.7/site-packages/tensorflow_core/contrib/tensor_forest/__init__.py\", line 21, in <module>\n",
      "    from tensorflow.contrib.tensor_forest.client import *\n",
      "  File \"/usr/local/anaconda3/envs/tf/lib/python3.7/site-packages/tensorflow_core/contrib/tensor_forest/client/__init__.py\", line 22, in <module>\n",
      "    from tensorflow.contrib.tensor_forest.client import random_forest\n",
      "  File \"/usr/local/anaconda3/envs/tf/lib/python3.7/site-packages/tensorflow_core/contrib/tensor_forest/client/random_forest.py\", line 27, in <module>\n",
      "    from tensorflow.contrib.tensor_forest.python import tensor_forest\n",
      "  File \"/usr/local/anaconda3/envs/tf/lib/python3.7/site-packages/tensorflow_core/contrib/tensor_forest/python/__init__.py\", line 21, in <module>\n",
      "    from tensorflow.contrib.tensor_forest.python import tensor_forest\n",
      "  File \"/usr/local/anaconda3/envs/tf/lib/python3.7/site-packages/tensorflow_core/contrib/tensor_forest/python/tensor_forest.py\", line 29, in <module>\n",
      "    from tensorflow.contrib.tensor_forest.python.ops import data_ops\n",
      "  File \"/usr/local/anaconda3/envs/tf/lib/python3.7/site-packages/tensorflow_core/contrib/tensor_forest/python/ops/data_ops.py\", line 20, in <module>\n",
      "    from tensorflow.contrib.tensor_forest.python.ops import tensor_forest_ops\n",
      "  File \"/usr/local/anaconda3/envs/tf/lib/python3.7/site-packages/tensorflow_core/contrib/tensor_forest/python/ops/tensor_forest_ops.py\", line 28, in <module>\n",
      "    resource_loader.get_path_to_datafile('_tensor_forest_ops.so'))\n",
      "  File \"/usr/local/anaconda3/envs/tf/lib/python3.7/site-packages/tensorflow_core/contrib/util/loader.py\", line 56, in load_op_library\n",
      "    ret = load_library.load_op_library(path)\n",
      "  File \"/usr/local/anaconda3/envs/tf/lib/python3.7/site-packages/tensorflow_core/python/framework/load_library.py\", line 61, in load_op_library\n",
      "    lib_handle = py_tf.TF_LoadLibrary(library_filename)\n",
      "KeyboardInterrupt\n"
     ]
    },
    {
     "ename": "KeyboardInterrupt",
     "evalue": "",
     "output_type": "error",
     "traceback": [
      "\u001b[0;31m---------------------------------------------------------------------------\u001b[0m"
     ]
    }
   ],
   "source": [
    "'''Main function\n",
    "\n",
    "Args:\n",
    "debug :\n",
    "    whether to use a fraction of the data. Make sure to set to False\n",
    "    when you're ready to train your model for real!\n",
    "'''\n",
    "print(80 * \"=\")\n",
    "print(\"INITIALIZING\")\n",
    "print(80 * \"=\")\n",
    "config = Config()\n",
    "data = load_and_preprocess_data(\n",
    "    max_batch_size=config.batch_size)\n",
    "transducer, word_embeddings, train_data = data[:3]\n",
    "dev_sents, dev_arcs = data[3:5]\n",
    "test_sents, test_arcs = data[5:]\n",
    "config.n_word_ids = len(transducer.id2word) + 1 # plus null\n",
    "config.n_tag_ids = len(transducer.id2tag) + 1\n",
    "config.n_deprel_ids = len(transducer.id2deprel) + 1\n",
    "config.embed_size = word_embeddings.shape[1]\n",
    "for (word_batch, tag_batch, deprel_batch), td_batch in \\\n",
    "        train_data.get_iterator(shuffled=False):\n",
    "    config.n_word_features = word_batch.shape[-1]\n",
    "    config.n_tag_features = tag_batch.shape[-1]\n",
    "    config.n_deprel_features = deprel_batch.shape[-1]\n",
    "    config.n_classes = td_batch.shape[-1]\n",
    "    break\n",
    "print(\n",
    "    'Word feat size: {}, tag feat size: {}, deprel feat size: {}, '\n",
    "    'classes size: {}'.format(\n",
    "        config.n_word_features, config.n_tag_features,\n",
    "        config.n_deprel_features, config.n_classes))"
   ]
  },
  {
   "cell_type": "markdown",
   "metadata": {},
   "source": [
    "# DON'T RERUN THINGS BEFORE THIS"
   ]
  },
  {
   "cell_type": "code",
   "execution_count": null,
   "metadata": {},
   "outputs": [],
   "source": [
    "print(transducer.id2word)\n",
    "debug = False"
   ]
  },
  {
   "cell_type": "code",
   "execution_count": null,
   "metadata": {},
   "outputs": [],
   "source": [
    "if debug:\n",
    "    dev_sents = dev_sents[:500]\n",
    "    dev_arcs = dev_arcs[:500]\n",
    "    test_sents = test_sents[:500]\n",
    "    test_arcs = test_arcs[:500]\n",
    "if not debug:\n",
    "    weight_file = NamedTemporaryFile(suffix='.weights')\n",
    "    # weight_file = open(\"something.weights\", mode=)\n",
    "\n",
    "session = tf.Session()\n",
    "print(\"Building model...\", end=' ')\n",
    "start = time.time()\n",
    "model = ParserModel(transducer, session, config, word_embeddings, is_training=False)\n",
    "print(\"took {:.2f} seconds\\n\".format(time.time() - start))\n",
    "init = tf.global_variables_initializer()\n",
    "session.run(init)\n",
    "output_names = 'output/td_vec'\n",
    "saver = None if debug else tf.train.Saver()\n",
    "saver.restore(session, \"checkpoints/model.ckpt\")\n",
    "\n",
    "# frozen_graph = tf.compat.v1.graph_util.convert_variables_to_constants(\n",
    "#     sess=session,\n",
    "#     input_graph_def=tf.compat.v1.get_default_graph().as_graph_def(),\n",
    "#     output_node_names=[output_names])\n",
    "# frozen_graph = tf.compat.v1.graph_util.extract_sub_graph(\n",
    "#     graph_def=frozen_graph,\n",
    "#     dest_nodes=[output_names])\n",
    "# with open('checkpoints/frozen_graph.pb', 'wb') as fout:\n",
    "#     fout.write(frozen_graph.SerializeToString())\n",
    "# print(80 * \"=\")\n",
    "# print(\"TRAINING\")\n",
    "# print(80 * \"=\")\n",
    "# best_las = 0.\n",
    "\n",
    "#     for epoch in range(config.n_epochs):\n",
    "#         print('Epoch {}'.format(epoch))\n",
    "\n",
    "#         if debug:\n",
    "#             model.fit_epoch(list(islice(train_data,3)), config.batch_size)\n",
    "#         else:\n",
    "#             model.fit_epoch(train_data)\n",
    "#         stdout.flush()\n",
    "#         dev_las, dev_uas = model.eval(dev_sents, dev_arcs)\n",
    "#         best = dev_las > best_las\n",
    "#         if best:\n",
    "#             best_las = dev_las\n",
    "#             if not debug:\n",
    "#                 saver.save(session, \"checkpoints/model.ckpt\")\n",
    "#                 tf.io.write_graph(session.graph_def, './checkpoints/', 'model.pbtxt')\n",
    "#                 frozen_graph = tf.compat.v1.graph_util.convert_variables_to_constants(\n",
    "#                     sess=session,\n",
    "#                     input_graph_def=tf.compat.v1.get_default_graph().as_graph_def(),\n",
    "#                     output_node_names=[output_names])\n",
    "#                 frozen_graph = tf.compat.v1.graph_util.extract_sub_graph(\n",
    "#                     graph_def=frozen_graph,\n",
    "#                     dest_nodes=[output_names])\n",
    "#                 with open('checkpoints/frozen_graph.pb', 'wb') as fout:\n",
    "#                     fout.write(frozen_graph.SerializeToString())\n",
    "\n",
    "#         print('Validation LAS: ', end='')\n",
    "#         print('{:.2f}{}'.format(dev_las, ' (BEST!), ' if best else ', '))\n",
    "#         print('Validation UAS: ', end='')\n",
    "#         print('{:.2f}'.format(dev_uas))\n",
    "\n",
    "# if not debug:\n",
    "#     print()\n",
    "#     print(80 * \"=\")\n",
    "#     print(\"TESTING\")\n",
    "#     print(80 * \"=\")\n",
    "#     print(\"Restoring the best model weights found on the dev set\")\n",
    "#     saver.restore(session, \"checkpoints/model.ckpt\")\n",
    "#     stdout.flush()\n",
    "#     las,uas = model.eval(test_sents, test_arcs)\n",
    "#     if las:\n",
    "#         print(\"Test LAS: \", end='')\n",
    "#         print('{:.2f}'.format(las), end=', ')\n",
    "#     print(\"Test UAS: \", end='')\n",
    "#     print('{:.2f}'.format(uas))\n",
    "#     print(\"Done!\")"
   ]
  },
  {
   "cell_type": "code",
   "execution_count": null,
   "metadata": {},
   "outputs": [],
   "source": [
    "# with tf.Graph().as_default(), tf.Session() as session:\n",
    "#     print(\"Building model...\", end=' ')\n",
    "#     start = time.time()\n",
    "#     model = ParserModel(transducer, session, config, word_embeddings, is_training=True)\n",
    "#     print(\"took {:.2f} seconds\\n\".format(time.time() - start))\n",
    "#     init = tf.global_variables_initializer()\n",
    "#     session.run(init)\n",
    "#     output_names = 'output/td_vec'\n",
    "#     saver = None if debug else tf.train.Saver()\n",
    "# #     saver.restore(session, \"checkpoints/model.ckpt\")\n",
    "#     frozen_graph = tf.compat.v1.graph_util.convert_variables_to_constants(\n",
    "#         sess=session,\n",
    "#         input_graph_def=tf.compat.v1.get_default_graph().as_graph_def(),\n",
    "#         output_node_names=[output_names])\n",
    "#     frozen_graph = tf.compat.v1.graph_util.extract_sub_graph(\n",
    "#         graph_def=frozen_graph,\n",
    "#         dest_nodes=[output_names])\n",
    "#     with open('checkpoints/frozen_graph.pb', 'wb') as fout:\n",
    "#         fout.write(frozen_graph.SerializeToString())\n",
    "#     saver.restore(session, \"checkpoints/model.ckpt\")\n",
    "#     print(test_sents)\n",
    "#     las,uas = model.eval(test_sents, test_arcs)\n"
   ]
  },
  {
   "cell_type": "code",
   "execution_count": null,
   "metadata": {},
   "outputs": [],
   "source": [
    "# transducer, word_embeddings, train_data = data[:3]\n",
    "# dev_sents, dev_arcs = data[3:5]\n",
    "# test_sents, test_arcs = data[5:]\n",
    "# print(dev_sents[:1])\n",
    "# print(dev_arcs[:1])\n",
    "# import json\n",
    "# list(islice(train_data,1))[0][0]"
   ]
  },
  {
   "cell_type": "markdown",
   "metadata": {},
   "source": [
    "gameplan: run minibatch_parse on single sentence pair, extract the feed. understand structure of said feed. try feeding feed into model directly. if it works => mad profit"
   ]
  },
  {
   "cell_type": "code",
   "execution_count": null,
   "metadata": {},
   "outputs": [],
   "source": []
  },
  {
   "cell_type": "code",
   "execution_count": 2,
   "metadata": {},
   "outputs": [
    {
     "data": {
      "text/plain": [
       "<module 'parser' from '/Users/khushjammu/GitHub/spacy-ios/neural-dependency-parser/parser.py'>"
      ]
     },
     "execution_count": 2,
     "metadata": {},
     "output_type": "execute_result"
    }
   ],
   "source": [
    "import importlib\n",
    "import parser\n",
    "importlib.reload(parser)"
   ]
  },
  {
   "cell_type": "code",
   "execution_count": null,
   "metadata": {},
   "outputs": [],
   "source": [
    "parser.minibatch_parse(\n",
    "    [[(\"What\", \"PRON\"), (\"if\", \"SCONJ\"), (\"Google\", \"PROPN\"), (\"Morphed\", \"VERB\"), (\"Into\", \"ADP\"), (\"GoogleOS\", \"PROPN\"), (\"?\", \"PUNCT\")]],\n",
    "    model,\n",
    "    1\n",
    ")"
   ]
  },
  {
   "cell_type": "markdown",
   "metadata": {},
   "source": [
    "gameplan: run `load_and_preprocess_data` to create `TrainingIterable`-s, which calls `graphs2feats_and_tds` in its constructor. "
   ]
  },
  {
   "cell_type": "code",
   "execution_count": 3,
   "metadata": {},
   "outputs": [
    {
     "data": {
      "text/plain": [
       "<module 'data' from '/Users/khushjammu/GitHub/spacy-ios/neural-dependency-parser/data.py'>"
      ]
     },
     "execution_count": 3,
     "metadata": {},
     "output_type": "execute_result"
    }
   ],
   "source": [
    "import data\n",
    "import importlib\n",
    "importlib.reload(data)"
   ]
  },
  {
   "cell_type": "code",
   "execution_count": 4,
   "metadata": {},
   "outputs": [],
   "source": [
    "config = Config()\n"
   ]
  },
  {
   "cell_type": "code",
   "execution_count": null,
   "metadata": {},
   "outputs": [],
   "source": [
    "data = data.load_and_preprocess_data(\n",
    "    max_batch_size=config.batch_size)"
   ]
  },
  {
   "cell_type": "markdown",
   "metadata": {},
   "source": [
    "Graphs are fed into the whole pipeline pre-made through `TrainIterable` in `data.py`, via the variable `training_graphs`. \n",
    "\n",
    "#### prediction pathway\n",
    "use minibatch_parse -> instatiates a bunch of partial-parses with sentences -> minibatch of PartialParses created -> model predicts on minibatch to generate td_vecs -> td vecs are used with parse_step to construct the parsed sentence in PartialParse.\n",
    "\n",
    "we have to port transducer (none of the graph bits -- I THINK just pps2feats and td_vec2trans_deprel) "
   ]
  }
 ],
 "metadata": {
  "kernelspec": {
   "display_name": "Python (tf)",
   "language": "python",
   "name": "tf"
  },
  "language_info": {
   "codemirror_mode": {
    "name": "ipython",
    "version": 3
   },
   "file_extension": ".py",
   "mimetype": "text/x-python",
   "name": "python",
   "nbconvert_exporter": "python",
   "pygments_lexer": "ipython3",
   "version": "3.7.7"
  }
 },
 "nbformat": 4,
 "nbformat_minor": 2
}
